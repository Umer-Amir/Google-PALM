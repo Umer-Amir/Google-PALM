{
 "cells": [
  {
   "cell_type": "code",
   "execution_count": 2,
   "metadata": {},
   "outputs": [
    {
     "name": "stdout",
     "output_type": "stream",
     "text": [
      "Note: you may need to restart the kernel to use updated packages.\n"
     ]
    }
   ],
   "source": [
    "%pip install -q google.generativeai"
   ]
  },
  {
   "cell_type": "code",
   "execution_count": 3,
   "metadata": {},
   "outputs": [],
   "source": [
    "import google.generativeai as palm"
   ]
  },
  {
   "cell_type": "code",
   "execution_count": 4,
   "metadata": {},
   "outputs": [],
   "source": [
    "palm.configure(api_key=\"YOUR API KEY HERE\")"
   ]
  },
  {
   "cell_type": "code",
   "execution_count": 5,
   "metadata": {},
   "outputs": [
    {
     "name": "stdout",
     "output_type": "stream",
     "text": [
      "Model Name: models/text-bison-001\n"
     ]
    }
   ],
   "source": [
    "models = [\n",
    "    m for m in palm.list_models() if \"generateText\" in m.supported_generation_methods\n",
    "]\n",
    "\n",
    "for m in models:\n",
    "    print(f\"Model Name: {m.name}\")"
   ]
  },
  {
   "cell_type": "code",
   "execution_count": 10,
   "metadata": {},
   "outputs": [
    {
     "data": {
      "text/plain": [
       "'models/text-bison-001'"
      ]
     },
     "execution_count": 10,
     "metadata": {},
     "output_type": "execute_result"
    }
   ],
   "source": [
    "model = models[0].name\n",
    "model"
   ]
  },
  {
   "cell_type": "code",
   "execution_count": 13,
   "metadata": {},
   "outputs": [],
   "source": [
    "prompt = \"Write in great detail about the philosphy of consciousness. Use multiple perspectives to describe the nature of consciousness. Defend each perspective with examples and counterexamples. I need atleast 500 words.\""
   ]
  },
  {
   "cell_type": "code",
   "execution_count": 14,
   "metadata": {},
   "outputs": [
    {
     "name": "stdout",
     "output_type": "stream",
     "text": [
      "## The Philosophy of Consciousness\n",
      "\n",
      "Consciousness is one of the most fundamental and mysterious aspects of human experience. It is the awareness of our own thoughts, feelings, and sensations, and it is what allows us to interact with the world around us. But what exactly is consciousness? And how does it work?\n",
      "\n",
      "Philosophers have been grappling with these questions for centuries, and there is no one definitive answer. However, there are a number of different perspectives on the nature of consciousness, each of which offers its own insights into this complex phenomenon.\n",
      "\n",
      "In this essay, we will explore four different perspectives on consciousness:\n",
      "\n",
      "* The Cartesian perspective, which sees consciousness as a non-physical substance that is separate from the body.\n",
      "* The materialist perspective, which sees consciousness as a product of the brain.\n",
      "* The functionalist perspective, which sees consciousness as a set of information-processing operations.\n",
      "* The phenomenological perspective, which sees consciousness as a subjective experience that is not reducible to physical or functional properties.\n",
      "\n",
      "We will then discuss the strengths and weaknesses of each perspective, and we will consider some of the challenges that they face.\n",
      "\n",
      "### The Cartesian Perspective\n",
      "\n",
      "The Cartesian perspective on consciousness is based on the work of the French philosopher René Descartes (1596-1650). Descartes argued that the mind and the body are two distinct substances. The mind is immaterial and non-physical, while the body is material and physical. Consciousness is a property of the mind, and it is not something that can be reduced to physical processes.\n",
      "\n",
      "Descartes's view of consciousness has been influential, but it has also been criticized. One of the main criticisms is that it is difficult to see how the mind and the body can interact if they are two distinct substances. Another criticism is that Descartes's view does not account for the fact that consciousness seems to be continuous, even though the brain is constantly changing.\n",
      "\n",
      "### The Materialist Perspective\n",
      "\n",
      "The materialist perspective on consciousness is based on the work of the British philosopher David Hume (1711-1776). Hume argued that everything that exists is either material or mental. The material world consists of physical objects, and the mental world consists of thoughts, feelings, and sensations. Consciousness is a mental state, and it is therefore a product of the brain.\n",
      "\n",
      "The materialist perspective is more compatible with modern science than the Cartesian perspective. It is consistent with the view that the brain is the organ of consciousness, and it does not require us to posit the existence of an immaterial mind. However, the materialist perspective has its own problems. One of the main problems is that it is difficult to explain how physical processes in the brain can give rise to conscious experiences.\n",
      "\n",
      "### The Functionalist Perspective\n",
      "\n",
      "The functionalist perspective on consciousness is based on the work of the American philosopher Hilary Putnam (1926-2016). Putnam argued that consciousness is not a property of the brain, but rather a functional property of a system. A system is said to be conscious if it can process information, store memories, and respond to its environment in a way that is appropriate for its needs.\n",
      "\n",
      "The functionalist perspective is a more flexible approach to consciousness than the Cartesian or materialist perspectives. It does not require us to posit the existence of an immaterial mind or to identify consciousness with specific physical processes in the brain. However, the functionalist perspective has its own problems. One of the main problems is that it is difficult to say what it means for a system to be conscious.\n",
      "\n",
      "### The Phenomenological Perspective\n",
      "\n",
      "The phenomenological perspective on consciousness is based on the work of the German philosopher Edmund Husserl (1859-1938). Husserl argued that consciousness is not something that can be studied objectively. It can only be understood from the inside, by reflecting on\n"
     ]
    }
   ],
   "source": [
    "completion = palm.generate_text(\n",
    "    model=model,\n",
    "    prompt=prompt,\n",
    "    temperature=0.3,\n",
    "    max_output_tokens=800,\n",
    ")\n",
    "\n",
    "print(completion.result)"
   ]
  }
 ],
 "metadata": {
  "kernelspec": {
   "display_name": "base",
   "language": "python",
   "name": "python3"
  },
  "language_info": {
   "codemirror_mode": {
    "name": "ipython",
    "version": 3
   },
   "file_extension": ".py",
   "mimetype": "text/x-python",
   "name": "python",
   "nbconvert_exporter": "python",
   "pygments_lexer": "ipython3",
   "version": "3.10.9"
  }
 },
 "nbformat": 4,
 "nbformat_minor": 2
}
